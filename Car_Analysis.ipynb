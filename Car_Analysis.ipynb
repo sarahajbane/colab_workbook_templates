{
  "nbformat": 4,
  "nbformat_minor": 0,
  "metadata": {
    "colab": {
      "provenance": [],
      "authorship_tag": "ABX9TyPjOI5PzXVqvpSC3MxEj3JB",
      "include_colab_link": true
    },
    "kernelspec": {
      "name": "python3",
      "display_name": "Python 3"
    },
    "language_info": {
      "name": "python"
    }
  },
  "cells": [
    {
      "cell_type": "markdown",
      "metadata": {
        "id": "view-in-github",
        "colab_type": "text"
      },
      "source": [
        "<a href=\"https://colab.research.google.com/github/sarahajbane/colab_workbook_templates/blob/main/Car_Analysis.ipynb\" target=\"_parent\"><img src=\"https://colab.research.google.com/assets/colab-badge.svg\" alt=\"Open In Colab\"/></a>"
      ]
    },
    {
      "cell_type": "code",
      "execution_count": 4,
      "metadata": {
        "id": "9Q5B5hVpqGhK"
      },
      "outputs": [],
      "source": [
        "import pandas as pd\n",
        "data = !wget -O 'data.csv' 'https://drive.google.com/uc?id=19V7VjHs4J8idTko7NQUT95ZJO2ZQSGWh'\n",
        "df = pd.read_csv(\"/content/data.csv\")\n",
        "df.head()"
      ]
    },
    {
      "cell_type": "code",
      "source": [
        "path = Path(\"content/uc?id=19V7VjHs4J8idTko7NQUT95ZJO2ZQSGWh\")\n",
        "path.exist()\n",
        "path.rename('data.csv')\n",
        "\n",
        "from google.colab import drive\n",
        "drive.mount('/content/drive')"
      ],
      "metadata": {
        "id": "-kTf8zT8YjRC"
      },
      "execution_count": null,
      "outputs": []
    }
  ]
}