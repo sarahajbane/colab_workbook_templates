{
  "nbformat": 4,
  "nbformat_minor": 0,
  "metadata": {
    "colab": {
      "provenance": [],
      "toc_visible": true,
      "include_colab_link": true
    },
    "kernelspec": {
      "name": "python3",
      "display_name": "Python 3"
    },
    "language_info": {
      "name": "python"
    }
  },
  "cells": [
    {
      "cell_type": "markdown",
      "metadata": {
        "id": "view-in-github",
        "colab_type": "text"
      },
      "source": [
        "<a href=\"https://colab.research.google.com/github/sarahajbane/colab_workbook_templates/blob/main/sklearn_diabetes.ipynb\" target=\"_parent\"><img src=\"https://colab.research.google.com/assets/colab-badge.svg\" alt=\"Open In Colab\"/></a>"
      ]
    },
    {
      "cell_type": "markdown",
      "source": [
        "# Data Source Information\n"
      ],
      "metadata": {
        "id": "lOFOT1Pg5gjW"
      }
    },
    {
      "cell_type": "markdown",
      "source": [
        "Original Data Source from Trevor Hastie's LARS software page via Standford University Department of Statistics:\n",
        "[Diabetes Data](https://www4.stat.ncsu.edu/~boos/var.select/diabetes.tab.txt)\n",
        "\n",
        "**Brief Description**\n",
        "\n",
        "From Bradley Efron, Trevor Hastie, Iain Johnstone and Robert Tibshirani (2004) [*Least Angle Regression*](https://https://web.stanford.edu/~hastie/Papers/LARS/LeastAngle_2002.pdf), Annals of Statistics (with discussion), 407-499, we have:\n",
        "\n",
        "\"Ten baseline variables, age, sex, body mass index, average blood pressure, and six blood serum measurements were obtained for each of n = 442 diabetes patients and quantitative measure of disease progression one year after baseline\"\n",
        "\n",
        "The included variables are:\n",
        "* age: Age of the patient\n",
        "* sex: Sex of the patient\n",
        "* bmi: Body mass index\n",
        "* bp: Blood pressure\n",
        "* s1: Total serum cholesterol (tc)\n",
        "* s2: Low-density lipoproteins (ldl)\n",
        "* s3: High-density lipoproteins (hdl)\n",
        "* s4: tc / hdl (tch)\n",
        "* s5: Log of serum triglycerides level (ltg)\n",
        "* s6: Blood sugar level (glu)\n",
        "* target: measure of disease progression one year after baseline\n"
      ],
      "metadata": {
        "id": "5wKwLWAc5pW4"
      }
    },
    {
      "cell_type": "markdown",
      "source": [
        "# EDA for assessment"
      ],
      "metadata": {
        "id": "2UTkqQlE6HLZ"
      }
    },
    {
      "cell_type": "code",
      "source": [
        "from sklearn.datasets import load_diabetes\n",
        "import pandas as pd\n",
        "import numpy as np\n",
        "from scipy import stats\n",
        "import seaborn as sns\n",
        "import matplotlib.pyplot as plt"
      ],
      "metadata": {
        "id": "RFONfKiZsbYG"
      },
      "execution_count": 38,
      "outputs": []
    },
    {
      "cell_type": "code",
      "source": [
        "data = load_diabetes(as_frame=True, scaled= False) # instructed to set scaled parameter to False\n",
        "df = data.frame\n",
        "df.info() # shows columns, counts, non-nulls and types\n",
        "# alt check null vales:\n",
        "# print(df.isnull().sum())\n",
        "# print(df.duplicated().sum()) # check duplicates"
      ],
      "metadata": {
        "collapsed": true,
        "id": "-Z2xDDQVJjte"
      },
      "execution_count": null,
      "outputs": []
    },
    {
      "cell_type": "code",
      "source": [
        "#df.describe()\n",
        "#df.head()"
      ],
      "metadata": {
        "collapsed": true,
        "id": "cuib_MVh2DVi"
      },
      "execution_count": 14,
      "outputs": []
    },
    {
      "cell_type": "code",
      "source": [
        "#print(df['age'].describe())\n",
        "#print(df['age'].nunique())\n",
        "#print(df['age'].mode())"
      ],
      "metadata": {
        "id": "XWQJcWwZXq1W",
        "collapsed": true
      },
      "execution_count": null,
      "outputs": []
    },
    {
      "cell_type": "code",
      "source": [
        "#sns.distplot(df['age']) # Visualise distribution of ages\n",
        "\n",
        "#sns.histplot(df['age'], kde = True, stat=\"density\", kde_kws=dict(cut=3),\n",
        "#    alpha=.4, edgecolor=(1, 1, 1, .4)) # alt for same output as distplot deprecated"
      ],
      "metadata": {
        "id": "UAejPXEQYUgj",
        "collapsed": true
      },
      "execution_count": null,
      "outputs": []
    },
    {
      "cell_type": "code",
      "source": [
        "df.sex.unique()"
      ],
      "metadata": {
        "id": "b-yWVKupjew7"
      },
      "execution_count": null,
      "outputs": []
    },
    {
      "cell_type": "code",
      "source": [
        "conditions = [\n",
        "    (df['sex'] == 2),\n",
        "    (df['sex'] == 1)\n",
        "]\n",
        "choices = ['M', 'F']\n",
        "df['sex'] = np.select(conditions, choices, default='Unknown')\n",
        "\n",
        "print(df)"
      ],
      "metadata": {
        "id": "bH5zeBKNZC9d"
      },
      "execution_count": null,
      "outputs": []
    },
    {
      "cell_type": "code",
      "source": [
        "sns.histplot(df['bp'])\n",
        "\n",
        "# Alternative:\n",
        "# Histogram of BMI\n",
        "#plt.hist(df['bmi'], bins=30, color='skyblue', edgecolor='black')\n",
        "#plt.title('BMI Distribution')\n",
        "#plt.xlabel('BMI')\n",
        "#plt.ylabel('Frequency')\n",
        "#plt.show()"
      ],
      "metadata": {
        "id": "iI7BIi5Vjsul"
      },
      "execution_count": null,
      "outputs": []
    },
    {
      "cell_type": "code",
      "source": [
        "print(df['bp'].describe())\n",
        "print('median:', df['bp'].median())"
      ],
      "metadata": {
        "id": "8WL3gIBlSzdc"
      },
      "execution_count": null,
      "outputs": []
    },
    {
      "cell_type": "code",
      "source": [
        "#print(df.info())"
      ],
      "metadata": {
        "id": "IPABAa8UmBoc"
      },
      "execution_count": null,
      "outputs": []
    },
    {
      "cell_type": "markdown",
      "source": [
        "# Additional (non-assessed plots)"
      ],
      "metadata": {
        "id": "MloabfjsLloo"
      }
    },
    {
      "cell_type": "code",
      "source": [
        "sns.boxplot(data=df, x='sex', y='age')\n",
        "plt.title('Age Distribution by Sex')\n",
        "plt.xlabel('Sex')\n",
        "plt.ylabel('Age')\n",
        "plt.show()"
      ],
      "metadata": {
        "id": "aZppcmC_PVcJ"
      },
      "execution_count": null,
      "outputs": []
    },
    {
      "cell_type": "code",
      "source": [
        "# Histogram of Age\n",
        "#plt.hist(df['age'], bins=30, color='skyblue', edgecolor='black')\n",
        "#plt.title('Age Distribution')\n",
        "#plt.xlabel('Age')\n",
        "#plt.ylabel('Frequency')\n",
        "#plt.show()\n"
      ],
      "metadata": {
        "id": "RPyX2caLcXs1"
      },
      "execution_count": null,
      "outputs": []
    },
    {
      "cell_type": "code",
      "source": [
        "# Perform linear regression\n",
        "slope, intercept, r_value, p_value, std_err = stats.linregress(df['bmi'], df['s6'])\n",
        "\n",
        "# Scatter plot of BMI vs. Glucose Level\n",
        "plt.figure(figsize=(8, 6))\n",
        "sns.scatterplot(data=df, x='bmi', y='s6', alpha=0.7)\n",
        "plt.title('BMI vs. Glucose Level')\n",
        "plt.xlabel('BMI')\n",
        "plt.ylabel('Glucose Level')\n",
        "\n",
        "# Add regression line\n",
        "sns.regplot(x='bmi', y='s6', data=df, scatter=False, color='red', label='Regression Line')\n",
        "\n",
        "# Get plot limits to position annotation dynamically\n",
        "x_min, x_max = plt.xlim()\n",
        "y_min, y_max = plt.ylim()\n",
        "\n",
        "# Annotate with the equation and R^2 value\n",
        "plt.annotate(\n",
        "    f\"$y = {slope:.2f}x + {intercept:.2f}$\\n$R^2 = {r_value**2:.2f}$\",\n",
        "    xy=(5,8), xycoords='data',  # 5% from left, 10% from top\n",
        ")\n",
        "\n",
        "# Show the plot\n",
        "plt.show()\n"
      ],
      "metadata": {
        "id": "bq2glHG-pAua"
      },
      "execution_count": null,
      "outputs": []
    },
    {
      "cell_type": "code",
      "source": [
        "# Pairplot of selected features\n",
        "sns.pairplot(df[['age', 'bmi', 'bp', 's6', 'sex']], hue='sex')\n",
        "plt.suptitle('Pairplot of Age, BMI, BP, Glucose Level, and Sex', y=1.0)\n",
        "plt.show()\n"
      ],
      "metadata": {
        "id": "PYn_96k6VBl3"
      },
      "execution_count": null,
      "outputs": []
    }
  ]
}